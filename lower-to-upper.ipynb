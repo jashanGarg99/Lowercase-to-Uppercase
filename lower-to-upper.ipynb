{
  "nbformat": 4,
  "nbformat_minor": 0,
  "metadata": {
    "colab": {
      "provenance": [],
      "authorship_tag": "ABX9TyM0fkHRtCKANai0GAYXZMSh",
      "include_colab_link": true
    },
    "kernelspec": {
      "name": "python3",
      "display_name": "Python 3"
    },
    "language_info": {
      "name": "python"
    }
  },
  "cells": [
    {
      "cell_type": "markdown",
      "metadata": {
        "id": "view-in-github",
        "colab_type": "text"
      },
      "source": [
        "<a href=\"https://colab.research.google.com/github/ManthanVerma7/sample-repo/blob/main/sample.ipynb\" target=\"_parent\"><img src=\"https://colab.research.google.com/assets/colab-badge.svg\" alt=\"Open In Colab\"/></a>"
      ]
    },
    {
      "cell_type": "code",
      "execution_count": 3,
      "metadata": {
        "colab": {
          "base_uri": "https://localhost:8080/"
        },
        "id": "QX3oswPDTe1A",
        "outputId": "e127d7a4-08f9-40b1-ea5c-357aec2d27c9"
      },
      "outputs": [
        {
          "output_type": "stream",
          "name": "stdout",
          "text": [
            "file-2.txt\n",
            "file-1.txt\n",
            "file-4.txt\n",
            "file-6.txt\n",
            "file-3.txt\n",
            "file-5.txt\n"
          ]
        }
      ],
      "source": [
        "import os\n",
        "l = os.listdir(\"input\")\n",
        "for f in l:\n",
        "  print(f)\n",
        "\n",
        "\n"
      ]
    },
    {
      "cell_type": "code",
      "source": [
        "l"
      ],
      "metadata": {
        "colab": {
          "base_uri": "https://localhost:8080/"
        },
        "id": "io2WFCApU-q1",
        "outputId": "3511a751-7d9a-491e-f09a-a801ff4a2e9b"
      },
      "execution_count": 4,
      "outputs": [
        {
          "output_type": "execute_result",
          "data": {
            "text/plain": [
              "['file-2.txt',\n",
              " 'file-1.txt',\n",
              " 'file-4.txt',\n",
              " 'file-6.txt',\n",
              " 'file-3.txt',\n",
              " 'file-5.txt']"
            ]
          },
          "metadata": {},
          "execution_count": 4
        }
      ]
    },
    {
      "cell_type": "code",
      "source": [
        "import os\n",
        "l = os.listdir(\"input\")\n",
        "for f in l:\n",
        "  Readfp=open('input/'+f)\t\t# Open the file in reading mode\n",
        "  Writefp=open('output/new-'+f,'w')\t# Open the file in writing mode\n",
        "  for line in Readfp:\n",
        "\t  Writefp.write(line.upper())\n",
        "  Writefp.close()\n",
        "  Readfp.close()"
      ],
      "metadata": {
        "id": "Ypa9VMkaVjdX"
      },
      "execution_count": 8,
      "outputs": []
    }
  ]
}
